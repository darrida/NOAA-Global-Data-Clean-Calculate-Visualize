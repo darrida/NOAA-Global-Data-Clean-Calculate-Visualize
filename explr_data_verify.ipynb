{
 "cells": [
  {
   "cell_type": "code",
   "execution_count": null,
   "id": "b1b97f38-34ab-4daa-9078-48c84aaaaee6",
   "metadata": {},
   "outputs": [],
   "source": [
    "import csv, os\n",
    "from pathlib import Path\n",
    "import pandas as pd\n",
    "from tqdm import tqdm\n",
    "\n",
    "data_dir = Path('/mnt/c/Users/Ben/Documents/working_datasets/noaa_global_temps')\n",
    "working_dir = data_dir / '2008'\n",
    "save_dir = Path('csvs')"
   ]
  },
  {
   "cell_type": "code",
   "execution_count": null,
   "id": "f903ec66-64f9-4c67-a906-2bf78b7e067a",
   "metadata": {},
   "outputs": [],
   "source": [
    "files = os.listdir(str(working_dir))"
   ]
  },
  {
   "cell_type": "markdown",
   "id": "3dca8b4e-b3dc-40d2-a9b1-462c171f9584",
   "metadata": {},
   "source": [
    "### Find missing and mismatched spatial data using Pandas"
   ]
  },
  {
   "cell_type": "code",
   "execution_count": null,
   "id": "794925ff-d55d-494d-9e32-11c61b0ad467",
   "metadata": {},
   "outputs": [],
   "source": [
    "def csv_clean_mismatched(file_dir, filename, exclude_file):\n",
    "    records = pd.read_csv(file_dir / filename, #working_dir / file_, \n",
    "                          dtype={'FRSHTT': str, 'TEMP': str, 'LATITUDE': str, 'LONGITUDE': str, 'ELEVATION': str, 'DATE': str}\n",
    "    )\n",
    "#     with pd.option_context(\"display.min_rows\", 50, \"display.max_rows\", 100, \"display.max_columns\", 40):\n",
    "#         display(records)\n",
    "    records.columns = records.columns.str.strip()\n",
    "    # remove site files with no spatial data\n",
    "    if (\n",
    "        not records['STATION'].eq(records['STATION'].iloc[0]).all()\n",
    "#         or not records['DATE'].eq(records['DATE'].iloc[0]).all()\n",
    "        or not records['LATITUDE'].eq(records['LATITUDE'].iloc[0]).all()\n",
    "        or not records['LONGITUDE'].eq(records['LONGITUDE'].iloc[0]).all()\n",
    "        or not records['ELEVATION'].eq(records['ELEVATION'].iloc[0]).all()\n",
    "    ):\n",
    "        with open(exclude_file, 'a') as f:\n",
    "            f.write(filename)\n",
    "            f.write('\\n')\n",
    "        return filename"
   ]
  },
  {
   "cell_type": "code",
   "execution_count": null,
   "id": "7f576dfb-f1c9-4ed2-afbf-c95d2c5a2c01",
   "metadata": {
    "scrolled": true,
    "tags": []
   },
   "outputs": [],
   "source": [
    "missing_data_l = []\n",
    "\n",
    "with open(save_dir / '_exclude.csv', 'w') as f:\n",
    "    pass\n",
    "\n",
    "for file_ in  tqdm(files):\n",
    "    missing = csv_clean_mismatched(\n",
    "        file_dir=working_dir,\n",
    "        filename=file_, \n",
    "        exclude_file=save_dir / '_exclude.csv'\n",
    "    )\n",
    "    if missing:\n",
    "        missing_data_l.append(missing)\n",
    "\n",
    "print(len(missing_data_l))\n",
    "print(missing_data_l)"
   ]
  },
  {
   "cell_type": "markdown",
   "id": "ff4ed85f-3b7b-48a6-b5ab-07e4d43464cb",
   "metadata": {},
   "source": [
    "### Find missing and mismatched spatial data using built in CSV"
   ]
  },
  {
   "cell_type": "raw",
   "id": "db4fdeb6-aaeb-4ea4-92d4-d2b4864a0e78",
   "metadata": {},
   "source": [
    "print(len(missing_data_l))\n",
    "print(missing_data_l)"
   ]
  },
  {
   "cell_type": "raw",
   "id": "227a52b8-bed4-4ccb-80e6-ca35c1147dc7",
   "metadata": {},
   "source": [
    "missing_data_l = []\n",
    "\n",
    "for count, file_ in  enumerate(tqdm(files)):\n",
    "    with open(working_dir / file_) as f:\n",
    "        records_c = csv.reader(f)\n",
    "        records = list(records_c)\n",
    "        good = True\n",
    "        for r in records:\n",
    "            if not r[2] or not r[3] or not [4] or not r[5]:\n",
    "                good = False\n",
    "        if not good:\n",
    "            missing_data_l.append(file_)"
   ]
  },
  {
   "cell_type": "raw",
   "id": "3b2f406c-4ee1-450a-b5b3-c3121a1933ed",
   "metadata": {},
   "source": [
    "print(len(missing_data_l))\n",
    "print(missing_data_l)"
   ]
  }
 ],
 "metadata": {
  "kernelspec": {
   "display_name": "XGBoost",
   "language": "python",
   "name": "xgboost-env"
  },
  "language_info": {
   "codemirror_mode": {
    "name": "ipython",
    "version": 3
   },
   "file_extension": ".py",
   "mimetype": "text/x-python",
   "name": "python",
   "nbconvert_exporter": "python",
   "pygments_lexer": "ipython3",
   "version": "3.9.2"
  }
 },
 "nbformat": 4,
 "nbformat_minor": 5
}
